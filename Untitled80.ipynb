{
 "cells": [
  {
   "cell_type": "code",
   "execution_count": 26,
   "metadata": {},
   "outputs": [
    {
     "name": "stdout",
     "output_type": "stream",
     "text": [
      "Once deleted, variables cannot be recovered. Proceed (y/[n])? y\n",
      "Say\n",
      "thanks\n",
      "TEXT: ۹۰ درجه به چپ\n",
      "hi\n"
     ]
    },
    {
     "data": {
      "text/plain": [
       "True"
      ]
     },
     "execution_count": 26,
     "metadata": {},
     "output_type": "execute_result"
    }
   ],
   "source": [
    "\n",
    "%reset\n",
    "import speech_recognition as sr\n",
    "r=sr.Recognizer()\n",
    "with sr.Microphone() as source:\n",
    "    print(\"Say\");\n",
    "    audio=r.listen(source,phrase_time_limit=5)\n",
    "    print(\"thanks\")\n",
    "a=r.recognize_google(audio,language='fa-IR')    \n",
    "    \n",
    "try:\n",
    "    print(\"TEXT: \"+r.recognize_google(audio,language='fa-IR'));\n",
    "except:\n",
    "    pass;\n",
    "\n",
    "\n",
    "str1=a\n",
    "num=[int(s) for s in str1.split() if s.isdigit()]\n",
    "num=num[0]\n",
    "num1=str(num)\n",
    "\n",
    "if (\"سانتی\" in a)==True or (\"سانت\" in a)==True or (\"درجه\" in a)==True:\n",
    "    if (\"جلو\" in a)==True:\n",
    "        dirr=\"J\"\n",
    "    \n",
    "    elif (\"عقب\" in a)==True:\n",
    "        dirr=\"b\"\n",
    "    elif (\"چپ\" in a)==True:\n",
    "        dirr=\"l\"\n",
    "    elif (\"راست\" in a)==True:\n",
    "        dirr=\"r\"\n",
    "        \n",
    "    print('hi')\n",
    "\n",
    "import webbrowser \n",
    "url=\"http://192.168.1.1/\"+dirr+num1\n",
    "webbrowser.open(url, new=0, autoraise=False)\n",
    "    \n",
    "    \n"
   ]
  },
  {
   "cell_type": "code",
   "execution_count": null,
   "metadata": {},
   "outputs": [],
   "source": []
  },
  {
   "cell_type": "code",
   "execution_count": null,
   "metadata": {},
   "outputs": [],
   "source": []
  }
 ],
 "metadata": {
  "kernelspec": {
   "display_name": "Python 3",
   "language": "python",
   "name": "python3"
  },
  "language_info": {
   "codemirror_mode": {
    "name": "ipython",
    "version": 3
   },
   "file_extension": ".py",
   "mimetype": "text/x-python",
   "name": "python",
   "nbconvert_exporter": "python",
   "pygments_lexer": "ipython3",
   "version": "3.7.3"
  }
 },
 "nbformat": 4,
 "nbformat_minor": 2
}
